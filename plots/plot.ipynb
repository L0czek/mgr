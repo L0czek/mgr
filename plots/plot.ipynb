{
 "cells": [
  {
   "cell_type": "code",
   "execution_count": null,
   "id": "5eec60f9-8ad7-41d1-9552-5512782fca80",
   "metadata": {},
   "outputs": [],
   "source": [
    "import os\n",
    "import matplotlib.pyplot as plt\n",
    "from typing import Dict\n",
    "from functools import partial, reduce\n",
    "from tqdm import tqdm\n",
    "from datetime import timedelta\n",
    "import tikzplotlib\n",
    "import json"
   ]
  },
  {
   "cell_type": "markdown",
   "id": "b67d8cd1-18da-4ae4-8c73-bbd7e214c316",
   "metadata": {},
   "source": [
    "# Speed comparison"
   ]
  },
  {
   "cell_type": "markdown",
   "id": "c22b3a4a-61f2-40ef-b194-4ced316187c8",
   "metadata": {},
   "source": [
    "## Line plots"
   ]
  },
  {
   "cell_type": "code",
   "execution_count": null,
   "id": "de421abd-c2ef-4519-95f9-995400e888d0",
   "metadata": {},
   "outputs": [],
   "source": [
    "def _read_metrics(data_dir: str, subdir: str) -> Dict[str, str]:\n",
    "    with open(os.path.join(data_dir, subdir, 'metric.log')) as file:\n",
    "        lines = file.readlines()\n",
    "\n",
    "    ret = {}\n",
    "    for line in lines:\n",
    "        name, value = line.split(':')\n",
    "        _, field = name.split('.', 1)\n",
    "        val, _ = value.split('|', 1)\n",
    "\n",
    "        if field not in ret:\n",
    "            ret[field] = []\n",
    "\n",
    "        ret[field].append(float(val))\n",
    "\n",
    "    return ret\n",
    "\n",
    "def _read_data(data_dir: str) -> Dict[str, Dict[str, str]]:\n",
    "    is_dir = lambda x: os.path.isdir(os.path.join(data_dir, x))\n",
    "    dirs = filter(is_dir, os.listdir(data_dir))\n",
    "    data = {\n",
    "        i:_read_metrics(data_dir, i)\n",
    "            for i in tqdm(dirs)\n",
    "    }\n",
    "\n",
    "    return data\n",
    "\n",
    "def _filter_metric(data, metric: str):\n",
    "    return {\n",
    "        index:instance[metric] for index, instance in data.items()\n",
    "    }\n",
    "\n",
    "def _prepare_data(metric: str, data_dir: str):\n",
    "    return _filter_metric(_read_data(data_dir), metric)"
   ]
  },
  {
   "cell_type": "code",
   "execution_count": null,
   "id": "b29ccba5-7ebd-4b6e-8bb3-84a08c2133f1",
   "metadata": {},
   "outputs": [],
   "source": [
    "def tikzplotlib_fix_ncols(obj):\n",
    "    \"\"\"\n",
    "    workaround for matplotlib 3.6 renamed legend's _ncol to _ncols, which breaks tikzplotlib\n",
    "    \"\"\"\n",
    "    if hasattr(obj, \"_ncols\"):\n",
    "        obj._ncol = obj._ncols\n",
    "    for child in obj.get_children():\n",
    "        tikzplotlib_fix_ncols(child)"
   ]
  },
  {
   "cell_type": "code",
   "execution_count": null,
   "id": "160e15b5-f7eb-478c-8967-e6778ba3c6fd",
   "metadata": {},
   "outputs": [],
   "source": [
    "def _read_ram(data_dir: str):\n",
    "    with open(os.path.join(data_dir, 'ram.log')) as file:\n",
    "        return [ json.loads(i) for i in file.readlines() ]        "
   ]
  },
  {
   "cell_type": "code",
   "execution_count": null,
   "id": "6b67badd-9522-472a-a08b-0d9bc8e13725",
   "metadata": {},
   "outputs": [],
   "source": [
    "VALUES = {}\n",
    "RAM = {}"
   ]
  },
  {
   "cell_type": "markdown",
   "id": "3673653f-99e6-4c18-b972-78724009f981",
   "metadata": {},
   "source": [
    "### Native serialization mechanism"
   ]
  },
  {
   "cell_type": "code",
   "execution_count": null,
   "id": "14e3e260-54af-4089-8fd4-c9a88ae1fcb7",
   "metadata": {},
   "outputs": [],
   "source": [
    "DATA_DIR = './experiments3/Speed_test_normal_mode/'\n",
    "DATA = _read_data(DATA_DIR)\n",
    "VALUES['Native'] = DATA\n",
    "RAM['Native'] = _read_ram(DATA_DIR)"
   ]
  },
  {
   "cell_type": "code",
   "execution_count": null,
   "id": "13e9d94a-19f8-4029-871f-4df33526e4ff",
   "metadata": {},
   "outputs": [],
   "source": [
    "TIME = 14400\n",
    "TICKS = 10\n",
    "METRIC = 'execs_per_sec'\n",
    "XLABEL = 'Time in hours : minutes : seconds'\n",
    "YLABEL = 'Test case execution speed per second'\n",
    "TITLE = 'Native serialization mechanism speed'\n",
    "OUT = 'normal_speed.pdf'\n",
    "\n",
    "fig, ax = plt.subplots()\n",
    "data = _filter_metric(DATA, METRIC)\n",
    "max_x = max(len(val) for _, val in data.items())\n",
    "\n",
    "ax.set_ylim([0, 6])\n",
    "xticks = [ i / TICKS for i in range(TICKS) ]\n",
    "xlabels = [ timedelta(seconds=int(TIME * i)) for i in xticks ]\n",
    "ax.set_xticks(xticks, xlabels, rotation=45)\n",
    "ax.set_ylabel(YLABEL)\n",
    "ax.set_xlabel(XLABEL)\n",
    "ax.set_title(TITLE)\n",
    "fig.tight_layout()\n",
    "\n",
    "for _, val in data.items():\n",
    "    xlen = len(val)\n",
    "    x = [ i / xlen for i in range(xlen) ]\n",
    "    ax.plot(x, val)\n",
    "\n",
    "fig.savefig(OUT)"
   ]
  },
  {
   "cell_type": "code",
   "execution_count": null,
   "id": "84a68a37-2b83-427f-bea9-4e0509d87aaf",
   "metadata": {},
   "outputs": [],
   "source": [
    "TIME = 14400\n",
    "TICKS = 10\n",
    "METRIC = 'total_crashes'\n",
    "XLABEL = 'Time in hours : minutes : seconds'\n",
    "YLABEL = 'Total crashes collected'\n",
    "TITLE = 'Native serialization mechanism crashes'\n",
    "OUT = 'normal_crashes.pdf'\n",
    "\n",
    "fig, ax = plt.subplots()\n",
    "data = _filter_metric(DATA, METRIC)\n",
    "max_x = max(len(val) for _, val in data.items())\n",
    "\n",
    "#ax.set_ylim([0, 6])\n",
    "xticks = [ i / TICKS for i in range(TICKS) ]\n",
    "xlabels = [ timedelta(seconds=int(TIME * i)) for i in xticks ]\n",
    "ax.set_xticks(xticks, xlabels, rotation=45)\n",
    "ax.set_ylabel(YLABEL)\n",
    "ax.set_xlabel(XLABEL)\n",
    "ax.set_title(TITLE)\n",
    "fig.tight_layout()\n",
    "\n",
    "for _, val in data.items():\n",
    "    xlen = len(val)\n",
    "    x = [ i / xlen for i in range(xlen) ]\n",
    "    ax.plot(x, val)\n",
    "\n",
    "fig.savefig(OUT)"
   ]
  },
  {
   "cell_type": "markdown",
   "id": "638155c7-f7c5-4c47-86ef-7f89c8a9f666",
   "metadata": {},
   "source": [
    "### Custom serialization mechanism"
   ]
  },
  {
   "cell_type": "code",
   "execution_count": null,
   "id": "fb39207a-c4cf-43b5-8d6a-d39efbb0a91b",
   "metadata": {},
   "outputs": [],
   "source": [
    "DATA_DIR = './experiments3/Speed_test_fast_mode/'\n",
    "DATA = _read_data(DATA_DIR)\n",
    "VALUES['Custom'] = DATA\n",
    "RAM['Custom'] = _read_ram(DATA_DIR)"
   ]
  },
  {
   "cell_type": "code",
   "execution_count": null,
   "id": "64c46706-1cea-4fed-93aa-227bb7724c5a",
   "metadata": {},
   "outputs": [],
   "source": [
    "TIME = 14400\n",
    "TICKS = 10\n",
    "METRIC = 'execs_per_sec'\n",
    "XLABEL = 'Time in hours : minutes : seconds'\n",
    "YLABEL = 'Test case execution speed per second'\n",
    "TITLE = 'Custom serialization mechanism speed'\n",
    "OUT = 'fast_speed.pdf'\n",
    "\n",
    "fig, ax = plt.subplots()\n",
    "data = _filter_metric(DATA, METRIC)\n",
    "max_x = max(len(val) for _, val in data.items())\n",
    "\n",
    "ax.set_ylim([0, 20])\n",
    "xticks = [ i / TICKS for i in range(TICKS) ]\n",
    "xlabels = [ timedelta(seconds=int(TIME * i)) for i in xticks ]\n",
    "ax.set_xticks(xticks, xlabels, rotation=45)\n",
    "ax.set_ylabel(YLABEL)\n",
    "ax.set_xlabel(XLABEL)\n",
    "ax.set_title(TITLE)\n",
    "fig.tight_layout()\n",
    "\n",
    "for _, val in data.items():\n",
    "    xlen = len(val)\n",
    "    x = [ i / xlen for i in range(xlen) ]\n",
    "    ax.plot(x, val)\n",
    "\n",
    "fig.savefig(OUT)"
   ]
  },
  {
   "cell_type": "code",
   "execution_count": null,
   "id": "eb0957a3-f6f7-43fd-a5d2-0538c61aefc7",
   "metadata": {},
   "outputs": [],
   "source": [
    "TIME = 14400\n",
    "TICKS = 10\n",
    "METRIC = 'total_crashes'\n",
    "XLABEL = 'Time in hours : minutes : seconds'\n",
    "YLABEL = 'Total crashes collected'\n",
    "TITLE = 'custom serialization mechanism crashes'\n",
    "OUT = 'custom_crashes.pdf'\n",
    "\n",
    "fig, ax = plt.subplots()\n",
    "data = _filter_metric(DATA, METRIC)\n",
    "max_x = max(len(val) for _, val in data.items())\n",
    "\n",
    "#ax.set_ylim([0, 6])\n",
    "xticks = [ i / TICKS for i in range(TICKS) ]\n",
    "xlabels = [ timedelta(seconds=int(TIME * i)) for i in xticks ]\n",
    "ax.set_xticks(xticks, xlabels, rotation=45)\n",
    "ax.set_ylabel(YLABEL)\n",
    "ax.set_xlabel(XLABEL)\n",
    "ax.set_title(TITLE)\n",
    "fig.tight_layout()\n",
    "\n",
    "for _, val in data.items():\n",
    "    xlen = len(val)\n",
    "    x = [ i / xlen for i in range(xlen) ]\n",
    "    ax.plot(x, val)\n",
    "\n",
    "fig.savefig(OUT)"
   ]
  },
  {
   "cell_type": "markdown",
   "id": "3982f2d3-fa40-451f-8491-f5b378ea31f2",
   "metadata": {},
   "source": [
    "### No revert mode, fuzzing from normal world"
   ]
  },
  {
   "cell_type": "code",
   "execution_count": null,
   "id": "62add022-e98e-4428-91a9-d9a67ed5f407",
   "metadata": {},
   "outputs": [],
   "source": [
    "DATA_DIR = './experiments/Speed_test_norevert_mode/'\n",
    "DATA = _read_data(DATA_DIR)\n",
    "VALUES['No revert'] = DATA\n",
    "RAM['No revert'] = _read_ram(DATA_DIR)"
   ]
  },
  {
   "cell_type": "code",
   "execution_count": null,
   "id": "4797a6d1-514c-41b4-b0c3-c26e93d4c4f7",
   "metadata": {},
   "outputs": [],
   "source": [
    "TIME = 14400\n",
    "TICKS = 10\n",
    "METRIC = 'execs_per_sec'\n",
    "XLABEL = 'Time in hours : minutes : seconds'\n",
    "YLABEL = 'Test case execution speed per second'\n",
    "TITLE = 'Fuzzing without reverting to previous state'\n",
    "OUT = 'norevert_speed.pdf'\n",
    "\n",
    "fig, ax = plt.subplots()\n",
    "data = _filter_metric(DATA, METRIC)\n",
    "max_x = max(len(val) for _, val in data.items())\n",
    "\n",
    "ax.set_ylim([0, 100])\n",
    "xticks = [ i / TICKS for i in range(TICKS) ]\n",
    "xlabels = [ timedelta(seconds=int(TIME * i)) for i in xticks ]\n",
    "ax.set_xticks(xticks, xlabels, rotation=45)\n",
    "ax.set_ylabel(YLABEL)\n",
    "ax.set_xlabel(XLABEL)\n",
    "ax.set_title(TITLE)\n",
    "fig.tight_layout()\n",
    "\n",
    "for _, val in data.items():\n",
    "    xlen = len(val)\n",
    "    x = [ i / xlen for i in range(xlen) ]\n",
    "    ax.plot(x, val)\n",
    "\n",
    "fig.savefig(OUT)"
   ]
  },
  {
   "cell_type": "code",
   "execution_count": null,
   "id": "56851386-c3b8-4fcf-aa41-6e5154f7ae87",
   "metadata": {},
   "outputs": [],
   "source": [
    "TIME = 14400\n",
    "TICKS = 10\n",
    "METRIC = 'total_crashes'\n",
    "XLABEL = 'Time in hours : minutes : seconds'\n",
    "YLABEL = 'Total crashes collected'\n",
    "TITLE = 'No revert crashes'\n",
    "OUT = 'norevert_crashes.pdf'\n",
    "\n",
    "fig, ax = plt.subplots()\n",
    "data = _filter_metric(DATA, METRIC)\n",
    "max_x = max(len(val) for _, val in data.items())\n",
    "\n",
    "#ax.set_ylim([0, 6])\n",
    "xticks = [ i / TICKS for i in range(TICKS) ]\n",
    "xlabels = [ timedelta(seconds=int(TIME * i)) for i in xticks ]\n",
    "ax.set_xticks(xticks, xlabels, rotation=45)\n",
    "ax.set_ylabel(YLABEL)\n",
    "ax.set_xlabel(XLABEL)\n",
    "ax.set_title(TITLE)\n",
    "fig.tight_layout()\n",
    "\n",
    "for _, val in data.items():\n",
    "    xlen = len(val)\n",
    "    x = [ i / xlen for i in range(xlen) ]\n",
    "    ax.plot(x, val)\n",
    "\n",
    "fig.savefig(OUT)"
   ]
  },
  {
   "cell_type": "markdown",
   "id": "8a11f2d9-c002-4eaf-89eb-8ade355cce00",
   "metadata": {},
   "source": [
    "### No revert from secure world"
   ]
  },
  {
   "cell_type": "markdown",
   "id": "7ee7006a-8a0b-4f36-b102-2a82eb261fd9",
   "metadata": {},
   "source": [
    "## Boxplot"
   ]
  },
  {
   "cell_type": "code",
   "execution_count": null,
   "id": "18ed7caf-89af-4280-91b1-c2ce82b54ce0",
   "metadata": {},
   "outputs": [],
   "source": [
    "DATA_DIR = './experiments/Speed_test_tznorevert_mode/'\n",
    "DATA = _read_data(DATA_DIR)\n",
    "VALUES['Secure no revert'] = DATA\n",
    "RAM['Secure no revert'] = _read_ram(DATA_DIR)"
   ]
  },
  {
   "cell_type": "code",
   "execution_count": null,
   "id": "e747a7ce-8be4-465a-afd2-890f3a6c4e09",
   "metadata": {},
   "outputs": [],
   "source": [
    "TIME = 14400\n",
    "TICKS = 10\n",
    "METRIC = 'execs_per_sec'\n",
    "XLABEL = 'Time in hours : minutes : seconds'\n",
    "YLABEL = 'Test case execution speed per second'\n",
    "TITLE = 'Fuzzing without reverting to previous state'\n",
    "OUT = 'tznorevert_speed.pdf'\n",
    "\n",
    "fig, ax = plt.subplots()\n",
    "data = _filter_metric(DATA, METRIC)\n",
    "max_x = max(len(val) for _, val in data.items())\n",
    "\n",
    "ax.set_ylim([0, 100])\n",
    "xticks = [ i / TICKS for i in range(TICKS) ]\n",
    "xlabels = [ timedelta(seconds=int(TIME * i)) for i in xticks ]\n",
    "ax.set_xticks(xticks, xlabels, rotation=45)\n",
    "ax.set_ylabel(YLABEL)\n",
    "ax.set_xlabel(XLABEL)\n",
    "ax.set_title(TITLE)\n",
    "fig.tight_layout()\n",
    "\n",
    "for _, val in data.items():\n",
    "    xlen = len(val)\n",
    "    x = [ i / xlen for i in range(xlen) ]\n",
    "    ax.plot(x, val)\n",
    "\n",
    "fig.savefig(OUT)"
   ]
  },
  {
   "cell_type": "code",
   "execution_count": null,
   "id": "15d3b128-0fde-420c-a1f4-7ec92bebd745",
   "metadata": {},
   "outputs": [],
   "source": [
    "TIME = 14400\n",
    "TICKS = 10\n",
    "METRIC = 'total_crashes'\n",
    "XLABEL = 'Time in hours : minutes : seconds'\n",
    "YLABEL = 'Total crashes collected'\n",
    "TITLE = 'Secure no revert crashes'\n",
    "OUT = 'tznorevert_crashes.pdf'\n",
    "\n",
    "fig, ax = plt.subplots()\n",
    "data = _filter_metric(DATA, METRIC)\n",
    "max_x = max(len(val) for _, val in data.items())\n",
    "\n",
    "#ax.set_ylim([0, 6])\n",
    "xticks = [ i / TICKS for i in range(TICKS) ]\n",
    "xlabels = [ timedelta(seconds=int(TIME * i)) for i in xticks ]\n",
    "ax.set_xticks(xticks, xlabels, rotation=45)\n",
    "ax.set_ylabel(YLABEL)\n",
    "ax.set_xlabel(XLABEL)\n",
    "ax.set_title(TITLE)\n",
    "fig.tight_layout()\n",
    "\n",
    "for _, val in data.items():\n",
    "    xlen = len(val)\n",
    "    x = [ i / xlen for i in range(xlen) ]\n",
    "    ax.plot(x, val)\n",
    "\n",
    "fig.savefig(OUT)"
   ]
  },
  {
   "cell_type": "markdown",
   "id": "f5baea6e-9d9f-47b8-8b7c-289bb4c1af8c",
   "metadata": {},
   "source": [
    "### Speed"
   ]
  },
  {
   "cell_type": "code",
   "execution_count": null,
   "id": "37872d6c-e391-4be3-86ac-5b589b89b80b",
   "metadata": {},
   "outputs": [],
   "source": [
    "def _join_values(data):\n",
    "    return reduce(lambda x, y: x + y, data.values())"
   ]
  },
  {
   "cell_type": "code",
   "execution_count": null,
   "id": "a638b644-de0d-4925-a622-48ffce0e9ed7",
   "metadata": {},
   "outputs": [],
   "source": [
    "METRIC = 'execs_per_sec'\n",
    "TITLE = \"Comparison of fuzzing speeds\"\n",
    "YLABEL = \"Test case execution speed in executions per second\"\n",
    "OUT = 'speed_boxplot.pdf'\n",
    "\n",
    "fig, ax = plt.subplots()\n",
    "data = { name:_join_values(_filter_metric(val, METRIC)) for name, val in VALUES.items() }\n",
    "ax.boxplot(data.values(), labels=data.keys())\n",
    "ax.set_ylabel(YLABEL)\n",
    "ax.set_title(TITLE)\n",
    "ax.set_ylim([0, 20])\n",
    "fig.tight_layout()\n",
    "\n",
    "fig.savefig(OUT)"
   ]
  },
  {
   "cell_type": "markdown",
   "id": "5df32c97-d4ac-491f-9e82-7ccee6f33d24",
   "metadata": {},
   "source": [
    "### Crashes"
   ]
  },
  {
   "cell_type": "code",
   "execution_count": null,
   "id": "3b5d869d-0488-4ea9-ad1e-702c83015e23",
   "metadata": {},
   "outputs": [],
   "source": [
    "METRIC = 'total_crashes'\n",
    "TITLE = \"Comparison of total crashes found\"\n",
    "YLABEL = \"Total number of crashes registered\"\n",
    "OUT = 'crashes_boxplot.pdf'\n",
    "\n",
    "fig, ax = plt.subplots()\n",
    "data = { name:_join_values(_filter_metric(val, METRIC)) for name, val in VALUES.items() }\n",
    "ax.boxplot(data.values(), labels=data.keys())\n",
    "ax.set_ylabel(YLABEL)\n",
    "ax.set_title(TITLE)\n",
    "fig.tight_layout()\n",
    "\n",
    "fig.savefig(OUT)"
   ]
  },
  {
   "cell_type": "markdown",
   "id": "5978000e-03a4-4019-a062-66c7012b5bf6",
   "metadata": {},
   "source": [
    "## Ram usage"
   ]
  },
  {
   "cell_type": "code",
   "execution_count": null,
   "id": "52041544-cbb3-4116-9974-ee8e4f213169",
   "metadata": {},
   "outputs": [],
   "source": [
    "TITLE = 'Ram usage by different serialization methods'\n",
    "XLABEL = 'Time in hours : minutes : seconds'\n",
    "YLABEL = 'Allocated RAM in GB'\n",
    "TYPE = 'used'\n",
    "TIME = 14400\n",
    "TICKS = 10\n",
    "OUT = 'ram_line.pdf'\n",
    "\n",
    "data = { name:[ i[TYPE] for i in val ] for name, val in RAM.items() }\n",
    "fig, ax = plt.subplots()\n",
    "xticks = [ i / TICKS for i in range(TICKS) ]\n",
    "xlabels = [ timedelta(seconds=int(TIME * i)) for i in xticks ]\n",
    "ax.set_xticks(xticks, xlabels, rotation=45)\n",
    "\n",
    "for name, val in data.items():\n",
    "    xlen = len(val)\n",
    "    x = [ i / xlen for i in range(xlen) ]\n",
    "    y = [ i / 10 ** 9 for i in val ]\n",
    "    ax.plot(x, y, label=name)\n",
    "\n",
    "ax.legend()\n",
    "ax.set_ylabel(YLABEL)\n",
    "ax.set_xlabel(XLABEL)\n",
    "ax.set_title(TITLE)\n",
    "fig.tight_layout()\n",
    "\n",
    "fig.savefig(OUT)"
   ]
  },
  {
   "cell_type": "code",
   "execution_count": null,
   "id": "93482f87-0b86-4698-95ab-003bb9cd5529",
   "metadata": {},
   "outputs": [],
   "source": [
    "TITLE = 'Ram usage by different serialization methods'\n",
    "XLABEL = 'Time in hours : minutes : seconds'\n",
    "YLABEL = 'Allocated RAM in GB'\n",
    "TYPE = 'used'\n",
    "TIME = 14400\n",
    "TICKS = 10\n",
    "OUT = 'ram_box.pdf'\n",
    "\n",
    "data = { name:[ i[TYPE] for i in val ] for name, val in RAM.items() }\n",
    "fig, ax = plt.subplots()\n",
    "\n",
    "Y = []\n",
    "labels = []\n",
    "for name, val in data.items():\n",
    "    Y.append([ i / 10 ** 9 for i in val ])\n",
    "    labels.append(name)\n",
    "\n",
    "ax.boxplot(Y, labels=labels)\n",
    "ax.set_xticklabels(ax.get_xticklabels(), rotation=45)\n",
    "\n",
    "ax.set_ylim([8, 42])\n",
    "ax.set_ylabel(YLABEL)\n",
    "ax.set_title(TITLE)\n",
    "fig.tight_layout()\n",
    "\n",
    "fig.savefig(OUT)"
   ]
  },
  {
   "cell_type": "markdown",
   "id": "ba26b9d3-0488-4314-998b-d4dea56ac629",
   "metadata": {},
   "source": [
    "# Structured fuzzing vs direct"
   ]
  },
  {
   "cell_type": "code",
   "execution_count": null,
   "id": "bf00a8f1-edfc-43a0-9e2d-d6e5bcfcdfc4",
   "metadata": {},
   "outputs": [],
   "source": [
    "DATA_DIR = './experiments3/Speed_test_tznorevert_mode_direct/'\n",
    "DATA = _read_data(DATA_DIR)"
   ]
  },
  {
   "cell_type": "markdown",
   "id": "3ebac675-276d-4cae-9283-223336d16047",
   "metadata": {},
   "source": [
    "### Line plot"
   ]
  },
  {
   "cell_type": "code",
   "execution_count": null,
   "id": "2550692a-6c3c-4546-bc3f-8a9d85effe76",
   "metadata": {},
   "outputs": [],
   "source": [
    "TITLE = 'Structured and direct fuzzing comparison'\n",
    "XLABEL = 'Time in hours : minutes : seconds'\n",
    "YLABEL = 'Total crashes'\n",
    "METRIC = 'total_crashes'\n",
    "VERSUS = VALUES['Secure no revert']\n",
    "OUT = 'dsl_direct_line.pdf'\n",
    "\n",
    "fig, ax = plt.subplots()\n",
    "data = _filter_metric(DATA, METRIC)\n",
    "xticks = [ i / TICKS for i in range(TICKS) ]\n",
    "xlabels = [ timedelta(seconds=int(TIME * i)) for i in xticks ]\n",
    "ax.set_xticks(xticks, xlabels, rotation=45)\n",
    "\n",
    "label = 'direct'\n",
    "for _, val in data.items():\n",
    "    xlen = len(val)\n",
    "    x = [ i / xlen for i in range(xlen) ]\n",
    "    ax.plot(x, val, label=label, color='tab:pink')\n",
    "    if label is not None:\n",
    "        label = None\n",
    "\n",
    "data = _filter_metric(VERSUS, METRIC)\n",
    "label = 'structured'\n",
    "for _, val in data.items():\n",
    "    xlen = len(val)\n",
    "    x = [ i / xlen for i in range(xlen) ]\n",
    "    ax.plot(x, val, label=label, color='tab:green')\n",
    "    if label is not None:\n",
    "        label = None\n",
    "\n",
    "    \n",
    "ax.legend()\n",
    "ax.set_ylabel(YLABEL)\n",
    "ax.set_xlabel(XLABEL)\n",
    "ax.set_title(TITLE)\n",
    "fig.tight_layout()\n",
    "\n",
    "fig.savefig(OUT)"
   ]
  },
  {
   "cell_type": "markdown",
   "id": "91dd2632-baa3-419f-8282-f56d5dfe23ea",
   "metadata": {},
   "source": [
    "### Box plot"
   ]
  },
  {
   "cell_type": "code",
   "execution_count": null,
   "id": "49d7b7ee-fd93-4dd2-acc1-f2e76f4879a6",
   "metadata": {},
   "outputs": [],
   "source": [
    "TITLE = 'Structured and direct fuzzing comparison'\n",
    "YLABEL = 'Total crashes'\n",
    "METRIC = 'total_crashes'\n",
    "VERSUS = VALUES['Secure no revert']\n",
    "OUT = 'dsl_direct_line.pdf'\n",
    "\n",
    "fig, ax = plt.subplots()\n",
    "data = {\n",
    "    \"direct\":_join_values(_filter_metric(DATA, METRIC)),\n",
    "    \"dsl\":_join_values(_filter_metric(VERSUS, METRIC))\n",
    "}\n",
    "\n",
    "ax.boxplot(data.values(), labels=data.keys())\n",
    "\n",
    "ax.set_title(TITLE)\n",
    "ax.set_ylabel(YLABEL)\n",
    "fig.tight_layout()\n",
    "\n",
    "fig.savefig(OUT)"
   ]
  },
  {
   "cell_type": "markdown",
   "id": "24602f25-a7b4-45b0-879e-3b43754ab1dd",
   "metadata": {},
   "source": [
    "# Seeding corpus with unit tests"
   ]
  },
  {
   "cell_type": "code",
   "execution_count": null,
   "id": "20a959d1-ff54-4735-a411-56c7c039372b",
   "metadata": {},
   "outputs": [],
   "source": []
  }
 ],
 "metadata": {
  "kernelspec": {
   "display_name": "Python 3 (ipykernel)",
   "language": "python",
   "name": "python3"
  },
  "language_info": {
   "codemirror_mode": {
    "name": "ipython",
    "version": 3
   },
   "file_extension": ".py",
   "mimetype": "text/x-python",
   "name": "python",
   "nbconvert_exporter": "python",
   "pygments_lexer": "ipython3",
   "version": "3.11.5"
  }
 },
 "nbformat": 4,
 "nbformat_minor": 5
}
